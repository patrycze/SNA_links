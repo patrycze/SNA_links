{
 "cells": [
  {
   "cell_type": "code",
   "execution_count": null,
   "metadata": {
    "collapsed": true
   },
   "outputs": [],
   "source": [
    "import pandas as pd\n",
    "from sklearn.cluster import KMeans\n",
    "from numpy.random import random\n",
    "from scipy.spatial.distance import euclidean\n",
    "\n",
    "# I'm going to generate some random data so you can just copy this and see it work\n",
    "\n",
    "random_data = []\n",
    "\n",
    "for i in range(0,10):\n",
    "    random_data.append({'dns_query_count': random(),\n",
    " 'http_hostnames_count': random(),\n",
    " 'dest_port_count': random(),\n",
    " 'ip_count': random(),\n",
    " 'signature_count': random(),\n",
    " 'src_ip': random(),\n",
    " 'http_user_agent_count': random()}\n",
    ")\n",
    "\n",
    "df = pd.DataFrame(random_data)\n",
    "\n",
    "km = KMeans(n_clusters=2).fit(df)\n",
    "\n",
    "df['cluster_id'] = km.labels_\n",
    "\n",
    "# get the cluster centers and compute the distance from each point to the center\n",
    "# this will show that all points are assigned to the correct cluster\n",
    "\n",
    "def distance_to_centroid(row, centroid):\n",
    "    row = row[['dns_query_count',\n",
    "                'http_hostnames_count',\n",
    "                'dest_port_count',\n",
    "                'ip_count',\n",
    "                'signature_count',\n",
    "                'src_ip',\n",
    "                'http_user_agent_count']]\n",
    "    return euclidean(row, centroid)\n",
    "\n",
    "# to get the cluster centers use km.cluster_centers_\n",
    "\n",
    "df['distance_to_center0'] = df.apply(lambda r: distance_to_centroid(r,\n",
    "    km.cluster_centers_[0]),1)\n",
    "\n",
    "df['distance_to_center1'] = df.apply(lambda r: distance_to_centroid(r,\n",
    "    km.cluster_centers_[1]),1)\n",
    "\n",
    "df.head()"
   ]
  }
 ],
 "metadata": {
  "kernelspec": {
   "display_name": "Python 3",
   "language": "python",
   "name": "python3"
  },
  "language_info": {
   "codemirror_mode": {
    "name": "ipython",
    "version": 3
   },
   "file_extension": ".py",
   "mimetype": "text/x-python",
   "name": "python",
   "nbconvert_exporter": "python",
   "pygments_lexer": "ipython3",
   "version": "3.6.5"
  }
 },
 "nbformat": 4,
 "nbformat_minor": 2
}
