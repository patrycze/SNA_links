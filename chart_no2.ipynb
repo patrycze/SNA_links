{
 "cells": [
  {
   "cell_type": "code",
   "execution_count": 5,
   "metadata": {
    "collapsed": true
   },
   "outputs": [],
   "source": [
    "from matplotlib.ticker import FuncFormatter\n",
    "from matplotlib.ticker import ScalarFormatter\n",
    "import matplotlib.pyplot as plt"
   ]
  },
  {
   "cell_type": "code",
   "execution_count": null,
   "metadata": {
    "collapsed": true
   },
   "outputs": [],
   "source": []
  },
  {
   "cell_type": "code",
   "execution_count": 12,
   "metadata": {
    "collapsed": true
   },
   "outputs": [],
   "source": [
    "dataY0 = (0,\n",
    "0.001032296122,\n",
    "0.008700781596,\n",
    "0.009585606843,\n",
    "0.01002801947,\n",
    "0.04040701961,\n",
    "0.04099690311,\n",
    "0.05515410706,\n",
    "0.07845450524,\n",
    "0.1088335054,\n",
    "0.1538121221,\n",
    "0.1660522047,\n",
    "0.1779973455,\n",
    "0.1961362631,\n",
    "0.2014452146,\n",
    "0.2235658457,\n",
    "0.2384604041,\n",
    "0.4809025218,\n",
    "0.6033033476,\n",
    "0.9715381212,\n",
    "1)\n",
    "\n",
    "dataY1 = (0,\n",
    "0.05714285714,\n",
    "0,\n",
    "0.02857142857,\n",
    "0.02857142857,\n",
    "0.08571428571,\n",
    "0.02857142857,\n",
    "0,\n",
    "0.02857142857,\n",
    "0.02857142857,\n",
    "0.6857142857,\n",
    "0.1428571429,\n",
    "0.3142857143,\n",
    "0.5428571429,\n",
    "0.2285714286,\n",
    "0.4571428571,\n",
    "0.1428571429,\n",
    "0.3142857143,\n",
    "0.7428571429,\n",
    "1,\n",
    "0.4571428571)\n",
    "\n",
    "dataX0 = list(range(len(dataY0)))\n",
    "dataX1 = list(range(len(dataY1)))"
   ]
  },
  {
   "cell_type": "code",
   "execution_count": null,
   "metadata": {},
   "outputs": [],
   "source": [
    "\n"
   ]
  },
  {
   "cell_type": "code",
   "execution_count": 26,
   "metadata": {},
   "outputs": [
    {
     "data": {
      "image/png": "[encoded data removed]",
      "text/plain": [
       "<matplotlib.figure.Figure at 0x10b3eb908>"
      ]
     },
     "metadata": {},
     "output_type": "display_data"
    }
   ],
   "source": [
    "import matplotlib.ticker as mtick\n",
    "import numpy as np\n",
    "\n",
    "fig, ax0 = plt.subplots(figsize=(5,5))\n",
    "\n",
    "\n",
    "ax0.scatter(dataX0, dataY0, s=40, color=\"#19bc9c\")\n",
    "ax0.scatter(dataX0, dataY1, s=40, color=\"#f1c40e\")\n",
    "\n",
    "ax0.spines['right'].set_visible(False)\n",
    "\n",
    "ax0.spines['top'].set_visible(False)\n",
    "\n",
    "ax0.legend(('days', 'week'), prop={'size': 16}, frameon=False,  loc='upper left')\n",
    "\n",
    "plt.show()\n"
   ]
  }
 ],
 "metadata": {
  "kernelspec": {
   "display_name": "Python 3",
   "language": "python",
   "name": "python3"
  },
  "language_info": {
   "codemirror_mode": {
    "name": "ipython",
    "version": 3
   },
   "file_extension": ".py",
   "mimetype": "text/x-python",
   "name": "python",
   "nbconvert_exporter": "python",
   "pygments_lexer": "ipython3",
   "version": "3.6.3"
  }
 },
 "nbformat": 4,
 "nbformat_minor": 2
}
