{
 "cells": [
  {
   "cell_type": "code",
   "execution_count": 3,
   "metadata": {
    "collapsed": true
   },
   "outputs": [],
   "source": [
    "from matplotlib.ticker import FuncFormatter\n",
    "from matplotlib.ticker import ScalarFormatter\n",
    "import matplotlib.pyplot as plt"
   ]
  },
  {
   "cell_type": "code",
   "execution_count": null,
   "metadata": {
    "collapsed": true
   },
   "outputs": [],
   "source": []
  },
  {
   "cell_type": "code",
   "execution_count": 7,
   "metadata": {},
   "outputs": [
    {
     "name": "stdout",
     "output_type": "stream",
     "text": [
      "172,257,344,434,505,565,639,678,712,751,782,813,862,905,944,976,1013,1042,1079,1112,1140,1161,1179,1209,1239,1263,1286,1303\n"
     ]
    }
   ],
   "source": [
    "dataY = \"470\t590\t688\t753\t793\t827\t861\t905\t957\t1025\t1067\t1098\t1129\t1161\t1185\t1229\t1285\t1335\t1365\t1384\t1399\t1424\t1449\t1484\t1513\t1558\t1596\t1645\".replace('\t',',')\n",
    "dataY0 = \"355\t435\t487\t526\t547\t571\t592\t622\t650\t657\t668\t676\t680\t692\t715\t735\t748\t758\t770\t781\t792\t804\t818\t826\t834\t839\t844\t852\".replace('\t',',')\n",
    "dataY1 = \"172\t257\t344\t434\t505\t565\t639\t678\t712\t751\t782\t813\t862\t905\t944\t976\t1013\t1042\t1079\t1112\t1140\t1161\t1179\t1209\t1239\t1263\t1286\t1303\".replace('\t',',')\n",
    "dataY2 = \"74\t128\t162\t181\t184\t188\t190\t191\t193\t195\t198\t199\t199\t201\t201\t204\t464\t740\t807\t833\t876\t917\t941\t964\t988\t1005\t1022\t1056\".replace('\t',',')\n",
    "dataY3 = \"1310\t1650\t1806\t1902\t2063\t2221\t2312\t2397\t2443\t2500\t2568\t2655\t2828\t2923\t2969\t3013\t3050\t3082\t3117\t3149\t3180\t3209\t3235\t3242\t3274\t3306\t3329\t3364\".replace('\t',',')\n",
    "dataY4 = \"1791\t2233\t2546\t2808\t3028\t3301\t3620\t3837\t3981\t4110\t4209\t4309\t4485\t4646\t4806\t4890\t4993\t5086\t5168\t5296\t5493\t5680\t5800\t5903\t6016\t6113\t6261\t6491\".replace('\t',',')\n",
    "dataY5 = \"453\t958\t1110\t1168\t1209\t1252\t1270\t1322\t1339\t1347\t1355\t1367\t1374\t1385\t1401\t1416\t1424\t1428\t1435\t1443\t1449\t1454\t1462\t1467\t1472\t1479\t1487\t1492\".replace('\t',',')\n",
    "dataY6 = \"1769\t2316\t2684\t3066\t3418\t3838\t4142\t4410\t4565\t4725\t4812\t4875\t4980\t5139\t5319\t5471\t5569\t5644\t5731\t5824\t5890\t5975\t6138\t6314\t6405\t6488\t6550\t6649\".replace('\t',',')\n",
    "dataY7 = \"368\t407\t428\t457\t481\t497\t517\t528\t539\t544\t551\t555\t559\t566\t572\t576\t585\t588\t589\t592\t602\t606\t616\t627\t632\t633\t646\t649\".replace('\t',',')\n",
    "dataY8 = \"2\t2\t2\t2\t2\t2\t2\t2\t2\t2\t2\t24\t59\t81\t88\t91\t97\t106\t109\t112\t115\t119\t123\t141\t171\t182\t185\t187\".replace('\t',',')\n",
    "dataY9 = \"129\t187\t213\t221\t232\t243\t249\t256\t261\t266\t274\t286\t314\t343\t349\t353\t356\t366\t369\t374\t380\t384\t387\t391\t391\t396\t401\t404\".replace('\t',',')\n",
    "dataY10 = \"415\t1263\t1614\t1770\t1909\t2071\t2215\t2431\t2643\t2743\t2849\t2946\t3036\t3168\t3284\t3424\t3500\t3574\t3643\t3651\t3651\t3651\t3651\t3695\t3741\t3793\t3855\t3915\".replace('\t',',')\n",
    "dataY11 = \"369\t543\t623\t671\t721\t787\t844\t873\t893\t910\t931\t967\t1020\t1124\t1195\t1258\t1299\t1299\t1299\t1320\t1370\t1415\t1459\t1477\t1500\t1526\t1568\t1615\".replace('\t',',')\n",
    "dataY12 = \"86\t132\t220\t286\t295\t295\t295\t316\t330\t345\t356\t364\t371\t375\t383\t384\t384\t386\t386\t392\t394\t398\t399\t401\t403\t404\t405\t405\".replace('\t',',')\n",
    "dataY13 = \"149\t189\t215\t234\t247\t263\t285\t303\t313\t318\t324\t340\t345\t350\t368\t380\t397\t411\t423\t427\t427\t432\t440\t452\t466\t476\t486\t491\".replace('\t',',')\n",
    "dataY14 = \"66\t78\t106\t132\t168\t174\t175\t177\t177\t177\t178\t179\t179\t182\t184\t186\t186\t187\t190\t190\t190\t190\t190\t190\t190\t191\t192\t192\".replace('\t',',')\n",
    "dataY15 = \"359\t597\t686\t748\t803\t863\t923\t991\t1032\t1063\t1101\t1117\t1130\t1137\t1150\t1199\t1212\t1220\t1235\t1254\t1275\t1315\t1315\t1337\t1355\t1375\t1396\t1413\".replace('\t',',')\n",
    "dataY16 = \"92\t105\t111\t115\t123\t123\t128\t133\t133\t134\t134\t134\t136\t138\t139\t139\t139\t139\t139\t140\t140\t140\t140\t140\t140\t140\t140\t140\".replace('\t',',')\n",
    "dataY17 = \"14\t16\t19\t19\t19\t19\t19\t19\t19\t19\t19\t19\t19\t19\t19\t19\t37\t74\t82\t89\t98\t102\t109\t117\t130\t131\t131\t131\".replace('\t',',')\n",
    "dataY18 = \"44\t51\t60\t66\t78\t91\t94\t101\t107\t107\t107\t107\t107\t114\t127\t131\t139\t145\t154\t158\t162\t162\t163\t168\t170\t176\t184\t188\".replace('\t',',')\n",
    "dataY19 = \"285\t459\t515\t570\t609\t655\t688\t733\t770\t774\t784\t788\t803\t835\t881\t906\t941\t976\t1016\t1044\t1060\t1062\t1083\t1113\t1144\t1175\t1203\t1215\".replace('\t',',')\n",
    "\n",
    "print(dataY1)\n",
    "\n",
    "dataX0 = list(range(len(dataY0)))\n",
    "dataX1 = list(range(len(dataY1)))"
   ]
  },
  {
   "cell_type": "code",
   "execution_count": null,
   "metadata": {
    "collapsed": true
   },
   "outputs": [],
   "source": [
    "\n"
   ]
  },
  {
   "cell_type": "code",
   "execution_count": 17,
   "metadata": {},
   "outputs": [
    {
     "data": {
      "image/png": "[encoded data removed]",
      "text/plain": [
       "<matplotlib.figure.Figure at 0x1190d0860>"
      ]
     },
     "metadata": {},
     "output_type": "display_data"
    }
   ],
   "source": [
    "import matplotlib.ticker as mtick\n",
    "import numpy as np\n",
    "\n",
    "fig, ax0 = plt.subplots(figsize=(5,5))\n",
    "\n",
    "dataY =[int(n) for n in dataY0.split(\",\")]\n",
    "dataX0 = list(range(len(dataY)))\n",
    "\n",
    "ax0.plot(dataX0, dataY , color=\"#19bc9c\")\n",
    "\n",
    "ax0.spines['right'].set_visible(False)\n",
    "\n",
    "ax0.spines['top'].set_visible(False)\n",
    "\n",
    "ax0.legend(('days', 'week'), prop={'size': 16}, frameon=False,  loc='upper left')\n",
    "\n",
    "plt.show()\n"
   ]
  }
 ],
 "metadata": {
  "kernelspec": {
   "display_name": "Python 3",
   "language": "python",
   "name": "python3"
  },
  "language_info": {
   "codemirror_mode": {
    "name": "ipython",
    "version": 3
   },
   "file_extension": ".py",
   "mimetype": "text/x-python",
   "name": "python",
   "nbconvert_exporter": "python",
   "pygments_lexer": "ipython3",
   "version": "3.6.3"
  }
 },
 "nbformat": 4,
 "nbformat_minor": 2
}
