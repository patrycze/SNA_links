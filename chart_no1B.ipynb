{
 "cells": [
  {
   "cell_type": "code",
   "execution_count": 19,
   "metadata": {
    "collapsed": true
   },
   "outputs": [],
   "source": [
    "from matplotlib.ticker import FuncFormatter\n",
    "from matplotlib.ticker import ScalarFormatter\n",
    "import matplotlib.pyplot as plt"
   ]
  },
  {
   "cell_type": "code",
   "execution_count": 27,
   "metadata": {},
   "outputs": [
    {
     "name": "stdout",
     "output_type": "stream",
     "text": [
      "355,435,487,526,547,571,592,622,650,657,668,676,680,692,715,735,748,758,770,781,792,804,818,826,834,839,844,852\n"
     ]
    }
   ],
   "source": [
    "# dataY1 = [59,0,0, 16,0,0, 14,0,0, 11,0,0]\n",
    "# dataY0 = [0,0,0,0,0,0,0,0,0,0,0,0]\n",
    "# dataY2 = [0, 20084,0,0, 25522,0,0,  30130,0,0, 33216]\n",
    "\n",
    "dataY1A = (44,19,10,7,7,7,6)\n",
    "dataY1B = (0, 0, 0, 0,0,0,0)\n",
    "\n",
    "\n",
    "dataY2A = (8776,12600,14643,16133,17438,18852,20066)\n",
    "dataY2B = (0, 0, 0, 0,0,0,0)\n"
   ]
  },
  {
   "cell_type": "code",
   "execution_count": 14,
   "metadata": {
    "collapsed": true
   },
   "outputs": [],
   "source": [
    "dataX1 = list(range(len(dataY2A)))\n",
    "dataX2 = list(range(len(dataY2A)))\n",
    "\n",
    "labels_position = [idx for idx, p in enumerate(dataY2A) if idx % 3==0]\n"
   ]
  },
  {
   "cell_type": "code",
   "execution_count": 4,
   "metadata": {
    "collapsed": true
   },
   "outputs": [],
   "source": [
    "tick_labels = ['21dni', '21dni', '21dni', '21dni'] "
   ]
  },
  {
   "cell_type": "code",
   "execution_count": 21,
   "metadata": {},
   "outputs": [
    {
     "ename": "NameError",
     "evalue": "name 'dataY1' is not defined",
     "output_type": "error",
     "traceback": [
      "\u001b[0;31m---------------------------------------------------------------------------\u001b[0m",
      "\u001b[0;31mNameError\u001b[0m                                 Traceback (most recent call last)",
      "\u001b[0;32m<ipython-input-21-c68e75ddfaca>\u001b[0m in \u001b[0;36m<module>\u001b[0;34m()\u001b[0m\n\u001b[1;32m      4\u001b[0m \u001b[0mfig\u001b[0m\u001b[0;34m,\u001b[0m \u001b[0max\u001b[0m \u001b[0;34m=\u001b[0m \u001b[0mplt\u001b[0m\u001b[0;34m.\u001b[0m\u001b[0msubplots\u001b[0m\u001b[0;34m(\u001b[0m\u001b[0;34m)\u001b[0m\u001b[0;34m\u001b[0m\u001b[0m\n\u001b[1;32m      5\u001b[0m \u001b[0;31m# ax.yaxis.set_major_formatter()\u001b[0m\u001b[0;34m\u001b[0m\u001b[0;34m\u001b[0m\u001b[0m\n\u001b[0;32m----> 6\u001b[0;31m \u001b[0mplt\u001b[0m\u001b[0;34m.\u001b[0m\u001b[0mbar\u001b[0m\u001b[0;34m(\u001b[0m\u001b[0mdataX1\u001b[0m\u001b[0;34m,\u001b[0m \u001b[0mdataY1\u001b[0m\u001b[0;34m)\u001b[0m\u001b[0;34m\u001b[0m\u001b[0m\n\u001b[0m\u001b[1;32m      7\u001b[0m \u001b[0mplt\u001b[0m\u001b[0;34m.\u001b[0m\u001b[0mxticks\u001b[0m\u001b[0;34m(\u001b[0m\u001b[0mdataX1\u001b[0m\u001b[0;34m,\u001b[0m \u001b[0;34m(\u001b[0m\u001b[0;34m'7 days'\u001b[0m\u001b[0;34m,\u001b[0m \u001b[0;34m'14 days'\u001b[0m\u001b[0;34m,\u001b[0m \u001b[0;34m'21 days'\u001b[0m\u001b[0;34m,\u001b[0m \u001b[0;34m'28 days'\u001b[0m\u001b[0;34m)\u001b[0m\u001b[0;34m)\u001b[0m\u001b[0;34m\u001b[0m\u001b[0m\n\u001b[1;32m      8\u001b[0m \u001b[0;34m\u001b[0m\u001b[0m\n",
      "\u001b[0;31mNameError\u001b[0m: name 'dataY1' is not defined"
     ]
    }
   ],
   "source": [
    "import numpy as np\n",
    "\n",
    "\n",
    "fig, ax = plt.subplots()\n",
    "# ax.yaxis.set_major_formatter()\n",
    "plt.bar(dataX1, dataY1)\n",
    "plt.xticks(dataX1, ('7 days', '14 days', '21 days', '28 days'))\n",
    "\n",
    "ax.set_ylim([0, 80])\n",
    "ax.set_ylabel('Percent usage')\n",
    "ax.set_xlabel('System Monitor')\n",
    "ax.spines['right'].set_visible(False)\n",
    "ax.spines['bottom'].set_visible(False)\n",
    "ax.spines['top'].set_visible(False)\n",
    "\n",
    "plt.show()\n",
    "fig.savefig(\"chart_no1B.png\", dpi = (200))"
   ]
  },
  {
   "cell_type": "code",
   "execution_count": 23,
   "metadata": {},
   "outputs": [
    {
     "data": {
      "image/png": "[encoded data removed]",
      "text/plain": [
       "<matplotlib.figure.Figure at 0x10c5296d8>"
      ]
     },
     "metadata": {},
     "output_type": "display_data"
    }
   ],
   "source": [
    "import matplotlib.ticker as mtick\n",
    "import numpy as np\n",
    "\n",
    "fig, ax0 = plt.subplots(figsize=(5,5))\n",
    "# ax.yaxis.set_major_formatter()\n",
    "# fig = plt.figure()\n",
    "\n",
    "width = 0.35     \n",
    "ind = np.arange(7) \n",
    "\n",
    "bar0 = ax0.bar(ind, dataY1A, width, color=\"#19bc9c\")\n",
    "barZERO = ax0.bar(ind + width, dataY2B, width, color=\"#19bc9c\")\n",
    "\n",
    "\n",
    "\n",
    "# labels = plt.xticks(labels_position, ('7 days','1 week', '14 days','2 week', '21 days','3 week', '28 days','4 week'))\n",
    "#xlabels = plt.xticks(len(labels_position))\n",
    "ax0.set_xticks(ind + width / 2)\n",
    "ax0.set_xticklabels(('1day', '2day', '3day', '4day', '5day', '6day', '7day' ))\n",
    "\n",
    "# for i, label in enumerate(labels):\n",
    "#     label.set_y(label.get_position()[1] - (i % 2) * 0.075)\n",
    "\n",
    "\n",
    "# ax0.set_ylim([0, 60])\n",
    "\n",
    "ax0.set_ylabel('Usage %', labelpad=3)\n",
    "# ax0.set_xlabel('TEXT', labelpad=10)\n",
    "\n",
    "\n",
    "ax0.spines['right'].set_visible(False)\n",
    "ax0.spines['bottom'].set_visible(False)\n",
    "ax0.spines['top'].set_visible(False)\n",
    "\n",
    "ax1 = ax0.twinx() \n",
    "ax1.set_ylabel('Incremental usage', labelpad=4)\n",
    "ax1.set_ylim([0, 40000])\n",
    "\n",
    "\n",
    "bar1 = ax1.bar(ind + width, dataY2A, width ,color='#f1c40e')\n",
    "bar1ZERO = ax1.bar(ind, dataY2B, width, color='#f1c40e')\n",
    "\n",
    "\n",
    "ax1.spines['bottom'].set_visible(False)\n",
    "ax1.spines['top'].set_visible(False)\n",
    "\n",
    "ax0.yaxis.label.set_size(18)\n",
    "ax0.xaxis.label.set_size(20)\n",
    "ax1.yaxis.label.set_size(18)\n",
    "\n",
    "ax0.xaxis.set_tick_params(labelsize=14)\n",
    "ax0.yaxis.set_tick_params(labelsize=14)\n",
    "\n",
    "ax1.yaxis.set_tick_params(labelsize=14)\n",
    "\n",
    "ax0.legend(bar1,  ('days', 'week'), prop={'size': 16}, frameon=False,  bbox_to_anchor=(0.8,-0.1))\n",
    "\n",
    "leg = ax0.get_legend()\n",
    "\n",
    "leg.legendHandles[0].set_color('#19bc9c')\n",
    "leg.legendHandles[1].set_color('#f1c40e')\n",
    "\n",
    "ax0.yaxis.set_major_formatter(mtick.PercentFormatter())\n",
    "\n",
    "xfmt = ScalarFormatter(useMathText=True)\n",
    "xfmt.set_powerlimits((-3,3)) \n",
    "\n",
    "ax1.yaxis.set_major_formatter(xfmt)\n",
    "\n",
    "\n",
    "\n",
    "plt.show()\n",
    "fig.savefig(\"chart_no1B.png\", dpi = (200),  bbox_inches='tight')"
   ]
  },
  {
   "cell_type": "code",
   "execution_count": 257,
   "metadata": {},
   "outputs": [
    {
     "data": {
      "image/png": "[encoded data removed]",
      "text/plain": [
       "<matplotlib.figure.Figure at 0x117eb07b8>"
      ]
     },
     "metadata": {},
     "output_type": "display_data"
    }
   ],
   "source": [
    "import numpy as np\n",
    "import matplotlib.pyplot as plt\n",
    "\n",
    "\n",
    "N = 4\n",
    "menMeans = (59, 16, 14, 11)\n",
    "\n",
    "\n",
    "fig, ax = plt.subplots()\n",
    "\n",
    "ind = np.arange(N)    # the x locations for the groups\n",
    "width = 0.35         # the width of the bars\n",
    "p1 = ax.bar(ind, menMeans, width, color='r')\n",
    "\n",
    "\n",
    "womenMeans = (0, 0,  0, 0)\n",
    "\n",
    "p2 = ax.bar(ind + width, womenMeans, width,\n",
    "            color='y', bottom=0)\n",
    "\n",
    "ax.set_title('Scores by group and gender')\n",
    "ax.set_xticks(ind + width / 2)\n",
    "ax.set_xticklabels(('G1', 'G2', 'G3', 'G4', 'G5'))\n",
    "\n",
    "ax.legend((p1[0], p2[0]), ('Men', 'Women'))\n",
    "\n",
    "ax.autoscale_view()\n",
    "\n",
    "plt.show()"
   ]
  }
 ],
 "metadata": {
  "kernelspec": {
   "display_name": "Python 3",
   "language": "python",
   "name": "python3"
  },
  "language_info": {
   "codemirror_mode": {
    "name": "ipython",
    "version": 3
   },
   "file_extension": ".py",
   "mimetype": "text/x-python",
   "name": "python",
   "nbconvert_exporter": "python",
   "pygments_lexer": "ipython3",
   "version": "3.6.3"
  }
 },
 "nbformat": 4,
 "nbformat_minor": 2
}
